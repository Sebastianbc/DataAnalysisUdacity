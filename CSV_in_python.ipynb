{
 "cells": [
  {
   "cell_type": "code",
   "execution_count": 1,
   "metadata": {},
   "outputs": [],
   "source": [
    "import unicodecsv"
   ]
  },
  {
   "cell_type": "code",
   "execution_count": 2,
   "metadata": {},
   "outputs": [],
   "source": [
    "enrollment_data = './Datasets/ph_school_enrollment.csv'"
   ]
  },
  {
   "cell_type": "code",
   "execution_count": 4,
   "metadata": {},
   "outputs": [],
   "source": [
    "with open(enrollment_data, 'rb') as f:\n",
    "    reader = unicodecsv.DictReader(f)\n",
    "    enrollments = list(reader)"
   ]
  },
  {
   "cell_type": "code",
   "execution_count": 7,
   "metadata": {},
   "outputs": [
    {
     "data": {
      "text/plain": [
       "{'item_no': '2',\n",
       " 'sector': 'Public',\n",
       " 'Academic_Year': 'SY 2010-2011',\n",
       " 'AY_Start': '2010',\n",
       " 'AY_End': '2011',\n",
       " 'Region': 'Region II - Cagayan Valley',\n",
       " 'Kindergarten': '27079',\n",
       " 'Grade 1': '83959',\n",
       " 'Grade 2': '73674',\n",
       " 'Grade 3': '70180',\n",
       " 'Grade 4': '68135',\n",
       " 'Grade 5': '65510',\n",
       " 'Grade 6': '62318',\n",
       " 'Grade 7': '54156',\n",
       " 'Grade 8': '50818',\n",
       " 'Grade 9': '47089',\n",
       " 'Grade 10': '42985',\n",
       " 'Grade 11 ABM': '0',\n",
       " 'Grade 11 HUMSS': '0',\n",
       " 'Grade 11 STEM': '0',\n",
       " 'Grade 11 GAS': '0',\n",
       " 'Grade 11 MARITIME': '0',\n",
       " 'Grade 11 TVL': '0',\n",
       " 'Grade 11 SPORTS': '0',\n",
       " 'Grade 11 A&D': '0',\n",
       " 'Grade 12 ABM': '0',\n",
       " 'Grade 12 HUMSS': '0',\n",
       " 'Grade 12 STEM': '0',\n",
       " 'Grade 12 GAS': '0',\n",
       " 'Grade 12 MARITIME': '0',\n",
       " 'Grade 12 TVL': '0',\n",
       " 'Grade 12 SPORTS': '0',\n",
       " 'Grade 12 A&D': '0'}"
      ]
     },
     "execution_count": 7,
     "metadata": {},
     "output_type": "execute_result"
    }
   ],
   "source": [
    "enrollments[1]"
   ]
  }
 ],
 "metadata": {
  "kernelspec": {
   "display_name": "Python 3",
   "language": "python",
   "name": "python3"
  },
  "language_info": {
   "codemirror_mode": {
    "name": "ipython",
    "version": 3
   },
   "file_extension": ".py",
   "mimetype": "text/x-python",
   "name": "python",
   "nbconvert_exporter": "python",
   "pygments_lexer": "ipython3",
   "version": "3.11.8"
  },
  "orig_nbformat": 4
 },
 "nbformat": 4,
 "nbformat_minor": 2
}
